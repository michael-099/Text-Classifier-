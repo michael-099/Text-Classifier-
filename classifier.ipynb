{
 "cells": [
  {
   "cell_type": "code",
<<<<<<< HEAD
   "execution_count": 21,
=======
   "execution_count": 18,
>>>>>>> 8b597cd4702620522d7c5197c2c42fde1aa14550
   "metadata": {},
   "outputs": [
    {
     "name": "stdout",
     "output_type": "stream",
     "text": [
<<<<<<< HEAD
      "Defaulting to user installation because normal site-packages is not writeable\n",
      "Requirement already satisfied: pandas in c:\\programdata\\anaconda3\\lib\\site-packages (2.2.2)\n",
      "Requirement already satisfied: numpy in c:\\programdata\\anaconda3\\lib\\site-packages (1.26.4)\n",
      "Requirement already satisfied: nltk in c:\\programdata\\anaconda3\\lib\\site-packages (3.9.1)\n",
      "Requirement already satisfied: scikit-learn in c:\\programdata\\anaconda3\\lib\\site-packages (1.5.1)\n",
      "Requirement already satisfied: python-dateutil>=2.8.2 in c:\\programdata\\anaconda3\\lib\\site-packages (from pandas) (2.9.0.post0)\n",
      "Requirement already satisfied: pytz>=2020.1 in c:\\programdata\\anaconda3\\lib\\site-packages (from pandas) (2024.1)\n",
      "Requirement already satisfied: tzdata>=2022.7 in c:\\programdata\\anaconda3\\lib\\site-packages (from pandas) (2023.3)\n",
      "Requirement already satisfied: click in c:\\programdata\\anaconda3\\lib\\site-packages (from nltk) (8.1.7)\n",
      "Requirement already satisfied: joblib in c:\\programdata\\anaconda3\\lib\\site-packages (from nltk) (1.4.2)\n",
      "Requirement already satisfied: regex>=2021.8.3 in c:\\programdata\\anaconda3\\lib\\site-packages (from nltk) (2024.9.11)\n",
      "Requirement already satisfied: tqdm in c:\\programdata\\anaconda3\\lib\\site-packages (from nltk) (4.66.5)\n",
      "Requirement already satisfied: scipy>=1.6.0 in c:\\programdata\\anaconda3\\lib\\site-packages (from scikit-learn) (1.13.1)\n",
      "Requirement already satisfied: threadpoolctl>=3.1.0 in c:\\programdata\\anaconda3\\lib\\site-packages (from scikit-learn) (3.5.0)\n",
      "Requirement already satisfied: six>=1.5 in c:\\programdata\\anaconda3\\lib\\site-packages (from python-dateutil>=2.8.2->pandas) (1.16.0)\n",
      "Requirement already satisfied: colorama in c:\\programdata\\anaconda3\\lib\\site-packages (from click->nltk) (0.4.6)\n",
      "Note: you may need to restart the kernel to use updated packages.\n"
=======
      "Requirement already satisfied: pandas in c:\\users\\micha\\anaconda3\\envs\\news_classifier\\lib\\site-packages (2.2.3)Note: you may need to restart the kernel to use updated packages.\n",
      "\n",
      "Requirement already satisfied: numpy in c:\\users\\micha\\anaconda3\\envs\\news_classifier\\lib\\site-packages (2.2.3)\n",
      "Requirement already satisfied: nltk in c:\\users\\micha\\anaconda3\\envs\\news_classifier\\lib\\site-packages (3.9.1)\n",
      "Requirement already satisfied: scikit-learn in c:\\users\\micha\\anaconda3\\envs\\news_classifier\\lib\\site-packages (1.6.1)\n",
      "Requirement already satisfied: python-dateutil>=2.8.2 in c:\\users\\micha\\anaconda3\\envs\\news_classifier\\lib\\site-packages (from pandas) (2.9.0.post0)\n",
      "Requirement already satisfied: pytz>=2020.1 in c:\\users\\micha\\anaconda3\\envs\\news_classifier\\lib\\site-packages (from pandas) (2025.1)\n",
      "Requirement already satisfied: tzdata>=2022.7 in c:\\users\\micha\\anaconda3\\envs\\news_classifier\\lib\\site-packages (from pandas) (2025.1)\n",
      "Requirement already satisfied: click in c:\\users\\micha\\anaconda3\\envs\\news_classifier\\lib\\site-packages (from nltk) (8.1.8)\n",
      "Requirement already satisfied: joblib in c:\\users\\micha\\anaconda3\\envs\\news_classifier\\lib\\site-packages (from nltk) (1.4.2)\n",
      "Requirement already satisfied: regex>=2021.8.3 in c:\\users\\micha\\anaconda3\\envs\\news_classifier\\lib\\site-packages (from nltk) (2024.11.6)\n",
      "Requirement already satisfied: tqdm in c:\\users\\micha\\anaconda3\\envs\\news_classifier\\lib\\site-packages (from nltk) (4.67.1)\n",
      "Requirement already satisfied: scipy>=1.6.0 in c:\\users\\micha\\anaconda3\\envs\\news_classifier\\lib\\site-packages (from scikit-learn) (1.15.2)\n",
      "Requirement already satisfied: threadpoolctl>=3.1.0 in c:\\users\\micha\\anaconda3\\envs\\news_classifier\\lib\\site-packages (from scikit-learn) (3.5.0)\n",
      "Requirement already satisfied: six>=1.5 in c:\\users\\micha\\anaconda3\\envs\\news_classifier\\lib\\site-packages (from python-dateutil>=2.8.2->pandas) (1.17.0)\n",
      "Requirement already satisfied: colorama in c:\\users\\micha\\anaconda3\\envs\\news_classifier\\lib\\site-packages (from click->nltk) (0.4.6)\n"
>>>>>>> 8b597cd4702620522d7c5197c2c42fde1aa14550
     ]
    }
   ],
   "source": [
    "pip install pandas numpy nltk scikit-learn\n"
   ]
  },
  {
   "cell_type": "markdown",
   "metadata": {},
   "source": [
    "# Exploring the Dataset "
   ]
  },
  {
   "cell_type": "code",
<<<<<<< HEAD
   "execution_count": 22,
=======
   "execution_count": 19,
>>>>>>> 8b597cd4702620522d7c5197c2c42fde1aa14550
   "metadata": {},
   "outputs": [],
   "source": [
    "import pandas as pd\n",
<<<<<<< HEAD
    "import numpy as np\n",
    "import nltk\n",
    "import seaborn as sns\n",
    "import matplotlib.pyplot as plt\n",
    "import re\n",
    "from nltk.tokenize import word_tokenize\n",
    "from sklearn.feature_extraction.text import TfidfVectorizer\n",
    "from sklearn.model_selection import train_test_split\n",
    "from sklearn.linear_model import LogisticRegression\n",
    "from sklearn.metrics import accuracy_score, classification_report, confusion_matrix\n"
=======
    "import nltk\n",
    "from nltk.tokenize import word_tokenize"
>>>>>>> 8b597cd4702620522d7c5197c2c42fde1aa14550
   ]
  },
  {
   "cell_type": "code",
<<<<<<< HEAD
   "execution_count": 23,
=======
   "execution_count": 20,
>>>>>>> 8b597cd4702620522d7c5197c2c42fde1aa14550
   "metadata": {},
   "outputs": [],
   "source": [
    "data = pd.read_csv(\"News Dataset.csv\")"
   ]
  },
  {
   "cell_type": "code",
<<<<<<< HEAD
   "execution_count": 24,
=======
   "execution_count": 21,
>>>>>>> 8b597cd4702620522d7c5197c2c42fde1aa14550
   "metadata": {},
   "outputs": [
    {
     "name": "stdout",
     "output_type": "stream",
     "text": [
      "                                      headline category               date  \\\n",
      "0  የኦሊምፒክ ማጣሪያ ተሳታፊዎች የሚለዩበት ቻምፒዮና እየተካሄደ ይገኛል     ስፖርት   January 14, 2021   \n",
      "1                                   አዲስ ዘመን ድሮ     መዝናኛ  December 28, 2020   \n",
      "2             የአረንጓዴ ጎርፍ በጎ አድራጎት አምባሳደሮች ተሰየሙ     ስፖርት    January 6, 2021   \n",
      "3        የሊጉ በቢዝነስ ሞዴል መመራት አበረታች ጅምር መሆኑ ተገለጸ     ስፖርት    January 6, 2021   \n",
      "4    የኦሊምፒክ ሥራ አስፈፃሚው እስከ ቶኪዮ ኦሊምፒክ ማግስት ይቀጥላል     ስፖርት    January 6, 2021   \n",
      "\n",
      "  views                                            article  \\\n",
      "0     2  ብርሃን ፈይሳየኢትዮጵያ ቦክስ ፌዴሬሽን በየዓመቱ የሚያዘጋጀው የክለቦች ቻ...   \n",
      "1     4   የአዲስ ዘመን ጋዜጣ ቀደምት ዘገባዎች በእጅጉ ተነባቢ ዛሬም ላገኛቸው በ...   \n",
      "2     6  ቦጋለ አበበየአዲስ አበባ ከተማ አስተዳደር ስፖርት ኮሚሽን ከኢትዮጵያ አረ...   \n",
      "3     5  ብርሃን ፈይሳአዲስ አበባ፡- የኢትዮጵያ ፕሪምየር ሊግ በሼር ካምፓኒ እንዲ...   \n",
      "4    12  ቦጋለ አበበ የኢትዮጵያ ኦሊምፒክ ኮሚቴ አርባ አምስተኛ መደበኛ ጠቅላላ ጉ...   \n",
      "\n",
      "                                link  \n",
      "0  https://www.press.et/Ama/?p=39481  \n",
      "1  https://www.press.et/Ama/?p=38334  \n",
      "2  https://www.press.et/Ama/?p=39010  \n",
      "3  https://www.press.et/Ama/?p=39011  \n",
      "4  https://www.press.et/Ama/?p=39012  \n",
      "                                              headline    category  \\\n",
      "51478  የ2011 በጀት ዓመት የውጭ ዲሎማሲያዊ ተግባራት ስኬታማ እንደነበሩ ተገለጸ        ፖለቲካ   \n",
      "51479   አቶ አገኘሁ ተሻገር የሰላም ግንባታና የሕዝብ ደህንነት ኃላፊ ሆነው ተሾሙ        ፖለቲካ   \n",
      "51480               የአማራ ክልል ምክር ቤት የ230 ዳኞችን ሹመት አጸደቀ        ፖለቲካ   \n",
      "51481  ሃምሌ 22 ለሚካሄደው የችግኝ ተከላ መርሀ-ግብር 54 ሚሊየን ብር ተመድቧል  ሀገር አቀፍ ዜና   \n",
      "51482         ለህግ የበላይነት መከበር ሁሉም በጋራ መስራት እንዳለበት ተጠቆመ  ሀገር አቀፍ ዜና   \n",
      "\n",
      "                date    views  \\\n",
      "51478  July 26, 2019  Unknown   \n",
      "51479  July 25, 2019  Unknown   \n",
      "51480  July 25, 2019  Unknown   \n",
      "51481  July 25, 2019  Unknown   \n",
      "51482  July 25, 2019  Unknown   \n",
      "\n",
      "                                                 article  \\\n",
      "51478  በ2011 በጀት ዓመት የተከናወኑ የውጭ ዲፕሎማሲያዊ ተግባራት ስኬታማ እን...   \n",
      "51479  አቶ አገኘሁ ተሻገር የአማራ ክልል የሰላም ግንባታና የህዝብ ደህንነት ቢሮ...   \n",
      "51480  የአማራ ክልል ምክር ቤት የ230 ዳኞችን ሹመት አጸደቀየአማራ ክልል ምክር...   \n",
      "51481  በዘንድሮ በጀት ዓመት ከ4 ቢሊዮን ችግኝ በላይ ለመትከል እቅድ መያዙ ይታ...   \n",
      "51482  የፍትህ እኩልነትን ለማረጋገጥ የህግ የበላይነትን የማክበርና የማስከብር ሃ...   \n",
      "\n",
      "                                  link  \n",
      "51478  https://waltainfo.com/am/31264/  \n",
      "51479  https://waltainfo.com/am/31259/  \n",
      "51480  https://waltainfo.com/am/31260/  \n",
      "51481  https://waltainfo.com/am/32585/  \n",
      "51482  https://waltainfo.com/am/32586/  \n"
     ]
    }
   ],
   "source": [
    "print(data.head())  # First 5 rows\n",
    "print(data.tail())  # Last 5 rows\n"
   ]
  },
  {
   "cell_type": "code",
<<<<<<< HEAD
   "execution_count": 25,
=======
   "execution_count": 22,
>>>>>>> 8b597cd4702620522d7c5197c2c42fde1aa14550
   "metadata": {},
   "outputs": [
    {
     "name": "stdout",
     "output_type": "stream",
     "text": [
      "<class 'pandas.core.frame.DataFrame'>\n",
      "RangeIndex: 51483 entries, 0 to 51482\n",
      "Data columns (total 6 columns):\n",
      " #   Column    Non-Null Count  Dtype \n",
      "---  ------    --------------  ----- \n",
      " 0   headline  51470 non-null  object\n",
      " 1   category  51482 non-null  object\n",
      " 2   date      51483 non-null  object\n",
      " 3   views     51483 non-null  object\n",
      " 4   article   51483 non-null  object\n",
      " 5   link      51483 non-null  object\n",
      "dtypes: object(6)\n",
      "memory usage: 2.4+ MB\n",
      "None\n"
     ]
    }
   ],
   "source": [
    "print(data.info())  # Data types, non-null values, memory usage\n"
   ]
  },
  {
   "cell_type": "code",
<<<<<<< HEAD
   "execution_count": 26,
=======
   "execution_count": 23,
>>>>>>> 8b597cd4702620522d7c5197c2c42fde1aa14550
   "metadata": {},
   "outputs": [
    {
     "name": "stdout",
     "output_type": "stream",
     "text": [
      "(51483, 6)\n"
     ]
    }
   ],
   "source": [
    "print(data.shape)  # (rows, columns)"
   ]
  },
  {
   "cell_type": "code",
<<<<<<< HEAD
   "execution_count": 27,
=======
   "execution_count": 24,
>>>>>>> 8b597cd4702620522d7c5197c2c42fde1aa14550
   "metadata": {},
   "outputs": [
    {
     "name": "stdout",
     "output_type": "stream",
     "text": [
      "headline    13\n",
      "category     1\n",
      "date         0\n",
      "views        0\n",
      "article      0\n",
      "link         0\n",
      "dtype: int64\n"
     ]
    }
   ],
   "source": [
    "print(data.isnull().sum())  # Count missing values in each column"
   ]
  },
  {
   "cell_type": "code",
<<<<<<< HEAD
   "execution_count": 28,
=======
   "execution_count": 25,
>>>>>>> 8b597cd4702620522d7c5197c2c42fde1aa14550
   "metadata": {},
   "outputs": [
    {
     "name": "stdout",
     "output_type": "stream",
     "text": [
      "(51470, 6)\n"
     ]
    }
   ],
   "source": [
    "data=data.dropna() # removing rows with null values because they are not many\n",
    "print(data.shape)  # (rows, columns)"
   ]
  },
  {
   "cell_type": "code",
<<<<<<< HEAD
   "execution_count": 29,
=======
   "execution_count": 26,
>>>>>>> 8b597cd4702620522d7c5197c2c42fde1aa14550
   "metadata": {},
   "outputs": [
    {
     "data": {
      "text/plain": [
       "array(['ስፖርት', 'መዝናኛ', 'ሀገር አቀፍ ዜና', 'ቢዝነስ', 'ዓለም አቀፍ ዜና', 'ፖለቲካ'],\n",
       "      dtype=object)"
      ]
     },
<<<<<<< HEAD
     "execution_count": 29,
=======
     "execution_count": 26,
>>>>>>> 8b597cd4702620522d7c5197c2c42fde1aa14550
     "metadata": {},
     "output_type": "execute_result"
    }
   ],
   "source": [
    "data.category.unique()"
   ]
  },
  {
   "cell_type": "code",
<<<<<<< HEAD
   "execution_count": 30,
=======
   "execution_count": 27,
>>>>>>> 8b597cd4702620522d7c5197c2c42fde1aa14550
   "metadata": {},
   "outputs": [],
   "source": [
    "import re\n",
    "\n",
    "def normalize_char(token):\n",
    "    subs = [\n",
    "        ('[ሃኅኃሐሓኻ]', 'ሀ'), ('[ሑኁዅ]', 'ሁ'), ('[ኂሒኺ]', 'ሂ'),\n",
    "        ('[ኌሔዄ]', 'ሄ'), ('[ሕኅ]', 'ህ'), ('[ኆሖኾ]', 'ሆ'),\n",
    "        ('[ሠ]', 'ሰ'), ('[ሡ]', 'ሱ'), ('[ሢ]', 'ሲ'),\n",
    "        ('[ሣ]', 'ሳ'), ('[ሤ]', 'ሴ'), ('[ሥ]', 'ስ'),\n",
    "        ('[ሦ]', 'ሶ'), ('[ዓኣዐ]', 'አ'), ('[ዑ]', 'ኡ'),\n",
    "        ('[ዒ]', 'ኢ'), ('[ዔ]', 'ኤ'), ('[ዕ]', 'እ'),\n",
    "        ('[ዖ]', 'ኦ'), ('[ጸ]', 'ፀ'), ('[ጹ]', 'ፁ'),\n",
    "        ('[ጺ]', 'ፂ'), ('[ጻ]', 'ፃ'), ('[ጼ]', 'ፄ'),\n",
    "        ('[ጽ]', 'ፅ'), ('[ጾ]', 'ፆ'), ('(ሉ[ዋአ])', 'ሏ'),\n",
    "        ('(ሙ[ዋአ])', 'ሟ'), ('(ቱ[ዋአ])', 'ቷ'), ('(ሩ[ዋአ])', 'ሯ'),\n",
    "        ('(ሱ[ዋአ])', 'ሷ'), ('(ሹ[ዋአ])', 'ሿ'), ('(ቁ[ዋአ])', 'ቋ'),\n",
    "        ('(ቡ[ዋአ])', 'ቧ'), ('(ቹ[ዋአ])', 'ቿ'), ('(ሁ[ዋአ])', 'ኋ'),\n",
    "        ('(ኑ[ዋአ])', 'ኗ'), ('(ኙ[ዋአ])', 'ኟ'), ('(ኩ[ዋአ])', 'ኳ'),\n",
    "        ('(ዙ[ዋአ])', 'ዟ'), ('(ጉ[ዋአ])', 'ጓ'), ('(ደ[ዋአ])', 'ዷ'),\n",
    "        ('(ጡ[ዋአ])', 'ጧ'), ('(ጩ[ዋአ])', 'ጯ'), ('(ጹ[ዋአ])', 'ጿ'),\n",
    "        ('(ፉ[ዋአ])', 'ፏ'), ('[ቊ]', 'ቁ'), ('[ኵ]', 'ኩ')\n",
    "    ]\n",
    "    \n",
    "    for pattern, replacement in subs:\n",
    "        token = re.sub(pattern, replacement, token)\n",
    "\n",
    "    return token\n"
   ]
  },
  {
   "cell_type": "code",
<<<<<<< HEAD
   "execution_count": 31,
   "metadata": {},
   "outputs": [
    {
     "name": "stderr",
     "output_type": "stream",
     "text": [
      "<>:1: SyntaxWarning: invalid escape sequence '\\w'\n",
      "<>:1: SyntaxWarning: invalid escape sequence '\\w'\n",
      "C:\\Users\\tsion\\AppData\\Local\\Temp\\ipykernel_27924\\3746977452.py:1: SyntaxWarning: invalid escape sequence '\\w'\n",
      "  data['article'] = data['article'].str.replace('[^\\w\\s]','')\n"
     ]
    }
   ],
=======
   "execution_count": 28,
   "metadata": {},
   "outputs": [],
>>>>>>> 8b597cd4702620522d7c5197c2c42fde1aa14550
   "source": [
    "data['article'] = data['article'].str.replace('[^\\w\\s]','')\n",
    "data['article'] = data['article'].apply(lambda x: normalize_char(x))"
   ]
  },
  {
   "cell_type": "markdown",
   "metadata": {},
   "source": [
    "### Tokenization Split the Amharic text into individual words (tokens) using a tokenizer."
   ]
  },
  {
   "cell_type": "code",
<<<<<<< HEAD
   "execution_count": 32,
=======
   "execution_count": 31,
>>>>>>> 8b597cd4702620522d7c5197c2c42fde1aa14550
   "metadata": {},
   "outputs": [
    {
     "name": "stderr",
     "output_type": "stream",
     "text": [
      "[nltk_data] Downloading package punkt_tab to\n",
<<<<<<< HEAD
      "[nltk_data]     C:\\Users\\tsion\\AppData\\Roaming\\nltk_data...\n",
      "[nltk_data]   Package punkt_tab is already up-to-date!\n"
=======
      "[nltk_data]     C:\\Users\\micha\\AppData\\Roaming\\nltk_data...\n",
      "[nltk_data]   Unzipping tokenizers\\punkt_tab.zip.\n"
>>>>>>> 8b597cd4702620522d7c5197c2c42fde1aa14550
     ]
    },
    {
     "name": "stdout",
     "output_type": "stream",
     "text": [
      "0    [ብርሀን, ፈይሳየኢትዮጵያ, ቦክስ, ፌዴሬሽን, በየአመቱ, የሚያዘጋጀው, ...\n",
      "1    [የአዲስ, ዘመን, ጋዜጣ, ቀደምት, ዘገባዎች, በእጅጉ, ተነባቢ, ዛሬም,...\n",
      "2    [ቦጋለ, አበበየአዲስ, አበባ, ከተማ, አስተዳደር, ስፖርት, ኮሚሽን, ከ...\n",
      "3    [ብርሀን, ፈይሳአዲስ, አበባ፡-, የኢትዮጵያ, ፕሪምየር, ሊግ, በሼር, ...\n",
      "4    [ቦጋለ, አበበ, የኢትዮጵያ, ኦሊምፒክ, ኮሚቴ, አርባ, አምስተኛ, መደበ...\n",
      "Name: tokens, dtype: object\n"
     ]
    }
   ],
   "source": [
    "\n",
    "nltk.download('punkt_tab')\n",
    "data['tokens'] = data['article'].apply(lambda x: word_tokenize(x))\n",
    "print(data['tokens'].head())"
   ]
  },
  {
   "cell_type": "markdown",
   "metadata": {},
   "source": [
    "### Stopword Removal Remove common words (stopwords) that don’t add meaning"
   ]
  },
  {
   "cell_type": "code",
<<<<<<< HEAD
   "execution_count": 33,
=======
   "execution_count": 32,
>>>>>>> 8b597cd4702620522d7c5197c2c42fde1aa14550
   "metadata": {},
   "outputs": [],
   "source": [
    "amharic_stopwords = ['እንዲሁም', 'እና', 'የሆነ', 'ወይም', 'ለምሳሌ']  # Add more stopwords\n",
    "data['tokens'] = data['tokens'].apply(lambda x: [word for word in x if word not in amharic_stopwords])\n"
   ]
  },
  {
   "cell_type": "markdown",
   "metadata": {},
   "source": [
    "Vectorization (Converting Text to Numbers)"
   ]
  },
  {
   "cell_type": "code",
<<<<<<< HEAD
   "execution_count": 34,
   "metadata": {
    "scrolled": true
   },
=======
   "execution_count": 33,
   "metadata": {},
>>>>>>> 8b597cd4702620522d7c5197c2c42fde1aa14550
   "outputs": [],
   "source": [
    "from sklearn.feature_extraction.text import TfidfVectorizer\n",
    "\n",
    "vectorizer = TfidfVectorizer(max_features=5000)  # You can adjust the feature size\n",
    "X = vectorizer.fit_transform(data['article'])  # Convert text to vectors\n",
    "y = data['category']  # Labels for classification\n"
   ]
  },
  {
   "cell_type": "code",
<<<<<<< HEAD
   "execution_count": 35,
=======
   "execution_count": 34,
>>>>>>> 8b597cd4702620522d7c5197c2c42fde1aa14550
   "metadata": {},
   "outputs": [],
   "source": [
    "from sklearn.model_selection import train_test_split\n",
    "\n",
    "X_train, X_test, y_train, y_test = train_test_split(X, y, test_size=0.2, random_state=42)\n"
   ]
  },
  {
   "cell_type": "code",
<<<<<<< HEAD
   "execution_count": 36,
=======
   "execution_count": 35,
>>>>>>> 8b597cd4702620522d7c5197c2c42fde1aa14550
   "metadata": {},
   "outputs": [
    {
     "name": "stdout",
     "output_type": "stream",
     "text": [
<<<<<<< HEAD
      "Accuracy: 0.8330095201088012\n"
=======
      "Accuracy: 0.8324266563046435\n"
>>>>>>> 8b597cd4702620522d7c5197c2c42fde1aa14550
     ]
    },
    {
     "name": "stderr",
     "output_type": "stream",
     "text": [
<<<<<<< HEAD
      "C:\\ProgramData\\anaconda3\\Lib\\site-packages\\sklearn\\linear_model\\_logistic.py:469: ConvergenceWarning: lbfgs failed to converge (status=1):\n",
      "STOP: TOTAL NO. of ITERATIONS REACHED LIMIT.\n",
=======
      "c:\\Users\\micha\\anaconda3\\envs\\news_classifier\\lib\\site-packages\\sklearn\\linear_model\\_logistic.py:465: ConvergenceWarning: lbfgs failed to converge (status=1):\n",
      "STOP: TOTAL NO. OF ITERATIONS REACHED LIMIT.\n",
>>>>>>> 8b597cd4702620522d7c5197c2c42fde1aa14550
      "\n",
      "Increase the number of iterations (max_iter) or scale the data as shown in:\n",
      "    https://scikit-learn.org/stable/modules/preprocessing.html\n",
      "Please also refer to the documentation for alternative solver options:\n",
      "    https://scikit-learn.org/stable/modules/linear_model.html#logistic-regression\n",
      "  n_iter_i = _check_optimize_result(\n"
     ]
    }
   ],
   "source": [
    "from sklearn.linear_model import LogisticRegression\n",
    "from sklearn.metrics import accuracy_score\n",
    "\n",
    "model = LogisticRegression()\n",
    "model.fit(X_train, y_train)\n",
    "\n",
    "y_pred = model.predict(X_test)\n",
    "print(\"Accuracy:\", accuracy_score(y_test, y_pred))\n"
   ]
  },
  {
   "cell_type": "code",
<<<<<<< HEAD
   "execution_count": 37,
   "metadata": {
    "scrolled": true
   },
=======
   "execution_count": 36,
   "metadata": {},
>>>>>>> 8b597cd4702620522d7c5197c2c42fde1aa14550
   "outputs": [
    {
     "name": "stdout",
     "output_type": "stream",
     "text": [
      "              precision    recall  f1-score   support\n",
      "\n",
<<<<<<< HEAD
      "  ሀገር አቀፍ ዜና       0.80      0.88      0.84      4095\n",
      "        መዝናኛ       0.87      0.60      0.71       134\n",
=======
      "  ሀገር አቀፍ ዜና       0.79      0.88      0.84      4095\n",
      "        መዝናኛ       0.87      0.61      0.72       134\n",
>>>>>>> 8b597cd4702620522d7c5197c2c42fde1aa14550
      "        ስፖርት       0.98      0.97      0.97      2096\n",
      "        ቢዝነስ       0.68      0.56      0.62       767\n",
      "  ዓለም አቀፍ ዜና       0.88      0.83      0.85      1345\n",
      "        ፖለቲካ       0.77      0.70      0.74      1857\n",
      "\n",
      "    accuracy                           0.83     10294\n",
      "   macro avg       0.83      0.76      0.79     10294\n",
      "weighted avg       0.83      0.83      0.83     10294\n",
      "\n",
<<<<<<< HEAD
      "[[3613    4   26  107   91  254]\n",
      " [  45   80    3    2    4    0]\n",
      " [  67    1 2025    0    1    2]\n",
      " [ 240    3    0  431    6   87]\n",
      " [ 167    2    8   10 1121   37]\n",
      " [ 410    2    2   83   55 1305]]\n"
=======
      "[[3615    4   26  105   88  257]\n",
      " [  43   82    2    2    5    0]\n",
      " [  67    1 2025    0    1    2]\n",
      " [ 241    3    0  430    6   87]\n",
      " [ 174    2    8   10 1114   37]\n",
      " [ 414    2    2   82   54 1303]]\n"
>>>>>>> 8b597cd4702620522d7c5197c2c42fde1aa14550
     ]
    }
   ],
   "source": [
    "from sklearn.metrics import classification_report, confusion_matrix\n",
    "\n",
    "print(classification_report(y_test, y_pred))\n",
    "print(confusion_matrix(y_test, y_pred))\n"
   ]
<<<<<<< HEAD
  },
  {
   "cell_type": "code",
   "execution_count": 39,
   "metadata": {},
   "outputs": [
    {
     "name": "stderr",
     "output_type": "stream",
     "text": [
      "C:\\ProgramData\\anaconda3\\Lib\\site-packages\\seaborn\\utils.py:61: UserWarning: Glyph 4608 (\\N{ETHIOPIC SYLLABLE HA}) missing from font(s) DejaVu Sans.\n",
      "  fig.canvas.draw()\n",
      "C:\\ProgramData\\anaconda3\\Lib\\site-packages\\seaborn\\utils.py:61: UserWarning: Glyph 4872 (\\N{ETHIOPIC SYLLABLE GA}) missing from font(s) DejaVu Sans.\n",
      "  fig.canvas.draw()\n",
      "C:\\ProgramData\\anaconda3\\Lib\\site-packages\\seaborn\\utils.py:61: UserWarning: Glyph 4653 (\\N{ETHIOPIC SYLLABLE RE}) missing from font(s) DejaVu Sans.\n",
      "  fig.canvas.draw()\n",
      "C:\\ProgramData\\anaconda3\\Lib\\site-packages\\seaborn\\utils.py:61: UserWarning: Glyph 4768 (\\N{ETHIOPIC SYLLABLE GLOTTAL A}) missing from font(s) DejaVu Sans.\n",
      "  fig.canvas.draw()\n",
      "C:\\ProgramData\\anaconda3\\Lib\\site-packages\\seaborn\\utils.py:61: UserWarning: Glyph 4672 (\\N{ETHIOPIC SYLLABLE QA}) missing from font(s) DejaVu Sans.\n",
      "  fig.canvas.draw()\n",
      "C:\\ProgramData\\anaconda3\\Lib\\site-packages\\seaborn\\utils.py:61: UserWarning: Glyph 4941 (\\N{ETHIOPIC SYLLABLE FE}) missing from font(s) DejaVu Sans.\n",
      "  fig.canvas.draw()\n",
      "C:\\ProgramData\\anaconda3\\Lib\\site-packages\\seaborn\\utils.py:61: UserWarning: Glyph 4828 (\\N{ETHIOPIC SYLLABLE ZEE}) missing from font(s) DejaVu Sans.\n",
      "  fig.canvas.draw()\n",
      "C:\\ProgramData\\anaconda3\\Lib\\site-packages\\seaborn\\utils.py:61: UserWarning: Glyph 4755 (\\N{ETHIOPIC SYLLABLE NAA}) missing from font(s) DejaVu Sans.\n",
      "  fig.canvas.draw()\n",
      "C:\\ProgramData\\anaconda3\\Lib\\site-packages\\seaborn\\utils.py:61: UserWarning: Glyph 4632 (\\N{ETHIOPIC SYLLABLE MA}) missing from font(s) DejaVu Sans.\n",
      "  fig.canvas.draw()\n",
      "C:\\ProgramData\\anaconda3\\Lib\\site-packages\\seaborn\\utils.py:61: UserWarning: Glyph 4829 (\\N{ETHIOPIC SYLLABLE ZE}) missing from font(s) DejaVu Sans.\n",
      "  fig.canvas.draw()\n",
      "C:\\ProgramData\\anaconda3\\Lib\\site-packages\\seaborn\\utils.py:61: UserWarning: Glyph 4763 (\\N{ETHIOPIC SYLLABLE NYAA}) missing from font(s) DejaVu Sans.\n",
      "  fig.canvas.draw()\n",
      "C:\\ProgramData\\anaconda3\\Lib\\site-packages\\seaborn\\utils.py:61: UserWarning: Glyph 4661 (\\N{ETHIOPIC SYLLABLE SE}) missing from font(s) DejaVu Sans.\n",
      "  fig.canvas.draw()\n",
      "C:\\ProgramData\\anaconda3\\Lib\\site-packages\\seaborn\\utils.py:61: UserWarning: Glyph 4950 (\\N{ETHIOPIC SYLLABLE PO}) missing from font(s) DejaVu Sans.\n",
      "  fig.canvas.draw()\n",
      "C:\\ProgramData\\anaconda3\\Lib\\site-packages\\seaborn\\utils.py:61: UserWarning: Glyph 4725 (\\N{ETHIOPIC SYLLABLE TE}) missing from font(s) DejaVu Sans.\n",
      "  fig.canvas.draw()\n",
      "C:\\ProgramData\\anaconda3\\Lib\\site-packages\\seaborn\\utils.py:61: UserWarning: Glyph 4706 (\\N{ETHIOPIC SYLLABLE BI}) missing from font(s) DejaVu Sans.\n",
      "  fig.canvas.draw()\n",
      "C:\\ProgramData\\anaconda3\\Lib\\site-packages\\seaborn\\utils.py:61: UserWarning: Glyph 4752 (\\N{ETHIOPIC SYLLABLE NA}) missing from font(s) DejaVu Sans.\n",
      "  fig.canvas.draw()\n",
      "C:\\ProgramData\\anaconda3\\Lib\\site-packages\\seaborn\\utils.py:61: UserWarning: Glyph 4819 (\\N{ETHIOPIC SYLLABLE PHARYNGEAL AA}) missing from font(s) DejaVu Sans.\n",
      "  fig.canvas.draw()\n",
      "C:\\ProgramData\\anaconda3\\Lib\\site-packages\\seaborn\\utils.py:61: UserWarning: Glyph 4616 (\\N{ETHIOPIC SYLLABLE LA}) missing from font(s) DejaVu Sans.\n",
      "  fig.canvas.draw()\n",
      "C:\\ProgramData\\anaconda3\\Lib\\site-packages\\seaborn\\utils.py:61: UserWarning: Glyph 4637 (\\N{ETHIOPIC SYLLABLE ME}) missing from font(s) DejaVu Sans.\n",
      "  fig.canvas.draw()\n",
      "C:\\ProgramData\\anaconda3\\Lib\\site-packages\\seaborn\\utils.py:61: UserWarning: Glyph 4722 (\\N{ETHIOPIC SYLLABLE TI}) missing from font(s) DejaVu Sans.\n",
      "  fig.canvas.draw()\n",
      "C:\\ProgramData\\anaconda3\\Lib\\site-packages\\seaborn\\utils.py:61: UserWarning: Glyph 4779 (\\N{ETHIOPIC SYLLABLE KAA}) missing from font(s) DejaVu Sans.\n",
      "  fig.canvas.draw()\n",
      "C:\\ProgramData\\anaconda3\\Lib\\site-packages\\IPython\\core\\pylabtools.py:170: UserWarning: Glyph 4608 (\\N{ETHIOPIC SYLLABLE HA}) missing from font(s) DejaVu Sans.\n",
      "  fig.canvas.print_figure(bytes_io, **kw)\n",
      "C:\\ProgramData\\anaconda3\\Lib\\site-packages\\IPython\\core\\pylabtools.py:170: UserWarning: Glyph 4872 (\\N{ETHIOPIC SYLLABLE GA}) missing from font(s) DejaVu Sans.\n",
      "  fig.canvas.print_figure(bytes_io, **kw)\n",
      "C:\\ProgramData\\anaconda3\\Lib\\site-packages\\IPython\\core\\pylabtools.py:170: UserWarning: Glyph 4653 (\\N{ETHIOPIC SYLLABLE RE}) missing from font(s) DejaVu Sans.\n",
      "  fig.canvas.print_figure(bytes_io, **kw)\n",
      "C:\\ProgramData\\anaconda3\\Lib\\site-packages\\IPython\\core\\pylabtools.py:170: UserWarning: Glyph 4768 (\\N{ETHIOPIC SYLLABLE GLOTTAL A}) missing from font(s) DejaVu Sans.\n",
      "  fig.canvas.print_figure(bytes_io, **kw)\n",
      "C:\\ProgramData\\anaconda3\\Lib\\site-packages\\IPython\\core\\pylabtools.py:170: UserWarning: Glyph 4672 (\\N{ETHIOPIC SYLLABLE QA}) missing from font(s) DejaVu Sans.\n",
      "  fig.canvas.print_figure(bytes_io, **kw)\n",
      "C:\\ProgramData\\anaconda3\\Lib\\site-packages\\IPython\\core\\pylabtools.py:170: UserWarning: Glyph 4941 (\\N{ETHIOPIC SYLLABLE FE}) missing from font(s) DejaVu Sans.\n",
      "  fig.canvas.print_figure(bytes_io, **kw)\n",
      "C:\\ProgramData\\anaconda3\\Lib\\site-packages\\IPython\\core\\pylabtools.py:170: UserWarning: Glyph 4828 (\\N{ETHIOPIC SYLLABLE ZEE}) missing from font(s) DejaVu Sans.\n",
      "  fig.canvas.print_figure(bytes_io, **kw)\n",
      "C:\\ProgramData\\anaconda3\\Lib\\site-packages\\IPython\\core\\pylabtools.py:170: UserWarning: Glyph 4755 (\\N{ETHIOPIC SYLLABLE NAA}) missing from font(s) DejaVu Sans.\n",
      "  fig.canvas.print_figure(bytes_io, **kw)\n",
      "C:\\ProgramData\\anaconda3\\Lib\\site-packages\\IPython\\core\\pylabtools.py:170: UserWarning: Glyph 4632 (\\N{ETHIOPIC SYLLABLE MA}) missing from font(s) DejaVu Sans.\n",
      "  fig.canvas.print_figure(bytes_io, **kw)\n",
      "C:\\ProgramData\\anaconda3\\Lib\\site-packages\\IPython\\core\\pylabtools.py:170: UserWarning: Glyph 4829 (\\N{ETHIOPIC SYLLABLE ZE}) missing from font(s) DejaVu Sans.\n",
      "  fig.canvas.print_figure(bytes_io, **kw)\n",
      "C:\\ProgramData\\anaconda3\\Lib\\site-packages\\IPython\\core\\pylabtools.py:170: UserWarning: Glyph 4763 (\\N{ETHIOPIC SYLLABLE NYAA}) missing from font(s) DejaVu Sans.\n",
      "  fig.canvas.print_figure(bytes_io, **kw)\n",
      "C:\\ProgramData\\anaconda3\\Lib\\site-packages\\IPython\\core\\pylabtools.py:170: UserWarning: Glyph 4661 (\\N{ETHIOPIC SYLLABLE SE}) missing from font(s) DejaVu Sans.\n",
      "  fig.canvas.print_figure(bytes_io, **kw)\n",
      "C:\\ProgramData\\anaconda3\\Lib\\site-packages\\IPython\\core\\pylabtools.py:170: UserWarning: Glyph 4950 (\\N{ETHIOPIC SYLLABLE PO}) missing from font(s) DejaVu Sans.\n",
      "  fig.canvas.print_figure(bytes_io, **kw)\n",
      "C:\\ProgramData\\anaconda3\\Lib\\site-packages\\IPython\\core\\pylabtools.py:170: UserWarning: Glyph 4725 (\\N{ETHIOPIC SYLLABLE TE}) missing from font(s) DejaVu Sans.\n",
      "  fig.canvas.print_figure(bytes_io, **kw)\n",
      "C:\\ProgramData\\anaconda3\\Lib\\site-packages\\IPython\\core\\pylabtools.py:170: UserWarning: Glyph 4706 (\\N{ETHIOPIC SYLLABLE BI}) missing from font(s) DejaVu Sans.\n",
      "  fig.canvas.print_figure(bytes_io, **kw)\n",
      "C:\\ProgramData\\anaconda3\\Lib\\site-packages\\IPython\\core\\pylabtools.py:170: UserWarning: Glyph 4752 (\\N{ETHIOPIC SYLLABLE NA}) missing from font(s) DejaVu Sans.\n",
      "  fig.canvas.print_figure(bytes_io, **kw)\n",
      "C:\\ProgramData\\anaconda3\\Lib\\site-packages\\IPython\\core\\pylabtools.py:170: UserWarning: Glyph 4819 (\\N{ETHIOPIC SYLLABLE PHARYNGEAL AA}) missing from font(s) DejaVu Sans.\n",
      "  fig.canvas.print_figure(bytes_io, **kw)\n",
      "C:\\ProgramData\\anaconda3\\Lib\\site-packages\\IPython\\core\\pylabtools.py:170: UserWarning: Glyph 4616 (\\N{ETHIOPIC SYLLABLE LA}) missing from font(s) DejaVu Sans.\n",
      "  fig.canvas.print_figure(bytes_io, **kw)\n",
      "C:\\ProgramData\\anaconda3\\Lib\\site-packages\\IPython\\core\\pylabtools.py:170: UserWarning: Glyph 4637 (\\N{ETHIOPIC SYLLABLE ME}) missing from font(s) DejaVu Sans.\n",
      "  fig.canvas.print_figure(bytes_io, **kw)\n",
      "C:\\ProgramData\\anaconda3\\Lib\\site-packages\\IPython\\core\\pylabtools.py:170: UserWarning: Glyph 4722 (\\N{ETHIOPIC SYLLABLE TI}) missing from font(s) DejaVu Sans.\n",
      "  fig.canvas.print_figure(bytes_io, **kw)\n",
      "C:\\ProgramData\\anaconda3\\Lib\\site-packages\\IPython\\core\\pylabtools.py:170: UserWarning: Glyph 4779 (\\N{ETHIOPIC SYLLABLE KAA}) missing from font(s) DejaVu Sans.\n",
      "  fig.canvas.print_figure(bytes_io, **kw)\n"
     ]
    },
    {
     "data": {
      "image/png": "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",
      "text/plain": [
       "<Figure size 800x600 with 2 Axes>"
      ]
     },
     "metadata": {},
     "output_type": "display_data"
    }
   ],
   "source": [
    "\n",
    "# Compute and visualize the confusion matrix\n",
    "conf_matrix = confusion_matrix(y_test, y_pred)\n",
    "plt.figure(figsize=(8,6))\n",
    "sns.heatmap(conf_matrix, annot=True, fmt='d', cmap='Blues', xticklabels=np.unique(y_test), yticklabels=np.unique(y_test))\n",
    "plt.xlabel('Predicted Labels')\n",
    "plt.ylabel('True Labels')\n",
    "plt.title('Confusion Matrix Heatmap')\n",
    "plt.show()\n"
   ]
  },
  {
   "cell_type": "code",
   "execution_count": null,
   "metadata": {},
   "outputs": [],
   "source": []
  },
  {
   "cell_type": "code",
   "execution_count": null,
   "metadata": {},
   "outputs": [],
   "source": []
=======
>>>>>>> 8b597cd4702620522d7c5197c2c42fde1aa14550
  }
 ],
 "metadata": {
  "kernelspec": {
<<<<<<< HEAD
   "display_name": "Python 3 (ipykernel)",
=======
   "display_name": "news_classifier",
>>>>>>> 8b597cd4702620522d7c5197c2c42fde1aa14550
   "language": "python",
   "name": "python3"
  },
  "language_info": {
   "codemirror_mode": {
    "name": "ipython",
    "version": 3
   },
   "file_extension": ".py",
   "mimetype": "text/x-python",
   "name": "python",
   "nbconvert_exporter": "python",
   "pygments_lexer": "ipython3",
<<<<<<< HEAD
   "version": "3.12.7"
  }
 },
 "nbformat": 4,
 "nbformat_minor": 4
=======
   "version": "3.10.16"
  }
 },
 "nbformat": 4,
 "nbformat_minor": 2
>>>>>>> 8b597cd4702620522d7c5197c2c42fde1aa14550
}
